{
 "cells": [
  {
   "cell_type": "markdown",
   "metadata": {},
   "source": [
    "# Rules of survival\n",
    "\n",
    "### Mini-project\n",
    "\n",
    "In this small project you will use the PRISM Rule Learner algorithm to learn some rules about COVID-19 comorbidity factors. Write as much about your findings as possible. You may add external information/additional datasets for an extra-credit."
   ]
  },
  {
   "cell_type": "markdown",
   "metadata": {},
   "source": [
    "## 1. Algorithm\n",
    "\n",
    "Copy your implementation of the correct and tested algorithm in the cell below. You do not need to supply any comments or explanations. "
   ]
  },
  {
   "cell_type": "code",
   "execution_count": null,
   "metadata": {},
   "outputs": [],
   "source": [
    "import pandas as pd\n",
    "import numpy as np\n",
    "\n",
    "class Rule:\n",
    "    def __init__(self, class_label):\n",
    "        self.conditions = []  # list of conditions\n",
    "        self.class_label = class_label  # rule class\n",
    "        self.accuracy = 0\n",
    "        self.coverage = 0\n",
    "        \n",
    "    def add_condition(self, condition):\n",
    "        self.conditions.append(condition)\n",
    "\n",
    "    def set_params(self, accuracy, coverage):\n",
    "        self.accuracy = accuracy\n",
    "        self.coverage = coverage\n",
    "        \n",
    "    def to_filter(self):\n",
    "        result = \"\"\n",
    "        for cond in self.conditions:\n",
    "            result += cond.to_filter() + \" & \"\n",
    "        result += \"(current_data[columns[-1]] == class_label)\"\n",
    "        return result\n",
    "    \n",
    "    def to_filter_no_class(self):\n",
    "        result = \"\"\n",
    "        for cond in self.conditions:\n",
    "            result += cond.to_filter() + \" & \"\n",
    "        result += \"True\"\n",
    "        return result\n",
    "    \n",
    "    # Human-readable printing of this Rule\n",
    "    def __repr__(self):\n",
    "        return \"If {} then {}. Coverage:{}, accuracy: {}\".format(self.conditions, self.class_label,\n",
    "                                                                 self.coverage, self.accuracy)\n",
    "\n",
    "    \n",
    "    \n",
    "class Condition:\n",
    "    def __init__(self, attribute, value, true_false = None):\n",
    "        self.attribute = attribute\n",
    "        self.value = value\n",
    "        self.true_false = true_false\n",
    "        \n",
    "    def to_filter(self):\n",
    "        result = \"\"\n",
    "        if self is None:\n",
    "            return result\n",
    "        if self.true_false is None:\n",
    "            result += '(current_data[\"' + self.attribute + '\"]' + \"==\" + '\"' + self.value + '\")'\n",
    "        elif self.true_false:\n",
    "            result += '(current_data[\"' + self.attribute + '\"]' + \">=\" + str(self.value) + \")\"\n",
    "        else:\n",
    "            result += '(current_data[\"' + self.attribute + '\"]' + \"<\" + str(self.value) + \")\"\n",
    "        return result\n",
    "\n",
    "    def __repr__(self):\n",
    "        if self.true_false is None:\n",
    "            return \"{}={}\".format(self.attribute, self.value)\n",
    "        else:\n",
    "            return \"{}>={}:{}\".format(self.attribute, self.value, self.true_false)\n",
    "\n",
    "        \n",
    "        \n",
    "def learn_one_rule(columns, data, class_label, prev_rule=None, min_coverage = 30, min_accuracy = 0.6):\n",
    "    current_data = data.copy()\n",
    "\n",
    "    current_rule = prev_rule\n",
    "    current_accuracy = 0\n",
    "    current_coverage = 0\n",
    "    covered_subset = None\n",
    "    \n",
    "    if current_rule is not None:\n",
    "        current_accuracy = current_rule.accuracy\n",
    "        current_coverage = current_rule.coverage\n",
    "    \n",
    "    best_col = None\n",
    "    best_val = None\n",
    "    true_false = None\n",
    "\n",
    "    for col in columns[:-1]:\n",
    "        \n",
    "        unique_vals = current_data[col].unique().tolist()\n",
    "        \n",
    "        for val in unique_vals:\n",
    "            \n",
    "            rule_filter = np.ones(len(current_data[columns[-1]]), dtype=bool)\n",
    "            if current_rule is not None:\n",
    "                rule_filter = eval(current_rule.to_filter_no_class())\n",
    "            \n",
    "            if isinstance(val, int) or isinstance(val, float):\n",
    "                \n",
    "                bigger_subset = current_data[(current_data[col] >= val) & rule_filter]\n",
    "                smaller_subset = current_data[(current_data[col] < val) & rule_filter]\n",
    "                    \n",
    "                bigger_tot = len(bigger_subset[columns[-1]])\n",
    "                smaller_tot = len(smaller_subset[columns[-1]])\n",
    "                \n",
    "                bigger_cov = len(bigger_subset[bigger_subset[columns[-1]] == class_label])\n",
    "                smaller_cov = len(smaller_subset[smaller_subset[columns[-1]] == class_label])\n",
    "                \n",
    "                if bigger_tot == 0 or smaller_tot == 0:\n",
    "                    continue\n",
    "                \n",
    "                bigger_acc = bigger_cov/bigger_tot\n",
    "                smaller_acc = smaller_cov/smaller_tot\n",
    "                    \n",
    "                choose_bigger = True if bigger_acc > smaller_acc else False\n",
    "                if bigger_acc == smaller_acc:\n",
    "                    if bigger_tot > smaller_tot:\n",
    "                        choose_bigger = True\n",
    "                    \n",
    "                if choose_bigger:\n",
    "                    if (bigger_acc >= current_accuracy and bigger_acc >= min_accuracy and bigger_tot >= min_coverage):\n",
    "                        best_col = col\n",
    "                        best_val = val\n",
    "                        current_accuracy = bigger_acc\n",
    "                        current_coverage = bigger_tot\n",
    "                        true_false = True\n",
    "                else:\n",
    "                    if (smaller_acc >= current_accuracy and smaller_acc >= min_accuracy and smaller_tot >= min_coverage):\n",
    "                        best_col = col\n",
    "                        best_val = val\n",
    "                        current_accuracy = smaller_acc\n",
    "                        current_coverage = smaller_tot\n",
    "                        true_false = False\n",
    "                        \n",
    "                \n",
    "              \n",
    "            else:\n",
    "                curr_subset = current_data[(current_data[col] == val) & rule_filter]\n",
    "                total = len(curr_subset[columns[-1]])\n",
    "                if total == 0:\n",
    "                    continue\n",
    "\n",
    "                curr_cov = len(curr_subset[curr_subset[columns[-1]] == class_label])\n",
    "                curr_acc = curr_cov/total\n",
    "\n",
    "                if curr_acc >= current_accuracy and curr_acc >= min_accuracy and total >= min_coverage:\n",
    "                    best_col = col\n",
    "                    best_val = val\n",
    "                    current_accuracy = curr_acc\n",
    "                    current_coverage = total\n",
    "                    true_false = None\n",
    "                else:\n",
    "                    continue\n",
    "\n",
    "    if best_col is not None:\n",
    "\n",
    "        if current_rule is None:\n",
    "            current_rule = Rule(class_label)\n",
    "\n",
    "        condition = Condition(best_col, best_val, true_false)\n",
    "        current_rule.add_condition(condition)\n",
    "        current_rule.set_params(current_accuracy, current_coverage)\n",
    "\n",
    "        rule_filter = eval(current_rule.to_filter_no_class())\n",
    "        covered_subset = current_data[rule_filter]\n",
    "    \n",
    "    return (current_rule, covered_subset)\n",
    "\n",
    "\n",
    "\n",
    "\n",
    "def learn_rules (columns, data, classes=None, \n",
    "                 min_coverage = 30, min_accuracy = 0.6):\n",
    "    rules = []\n",
    "    if classes is not None:\n",
    "        class_labels = classes\n",
    "    else:\n",
    "        class_labels = data[columns[-1]].unique().tolist()\n",
    "\n",
    "    current_data = data.copy()\n",
    "    \n",
    "    for class_label in class_labels:\n",
    "        done = False\n",
    "        while len(current_data) > min_coverage:\n",
    "            # Learn a rule with a single condition\n",
    "            \n",
    "            (rule, current_subset) = learn_one_rule(columns, current_data, class_label, None, min_coverage, min_accuracy)\n",
    "            # If the best rule does not pass the coverage threshold - we are done with this class\n",
    "            if rule is None:\n",
    "                break\n",
    "\n",
    "            # If we get the rule with coverage above threshold\n",
    "            # We try to refine this rule\n",
    "            if rule is not None:\n",
    "                # try to improve the rule using the same learn_one_rule and passing existing rule as parameter\n",
    "                # here need another loop which stops when accuracy is not improving\n",
    "                prev_acc=0\n",
    "                new_acc=rule.accuracy\n",
    "                while(new_acc < 1 and new_acc > prev_acc):\n",
    "                    (rule, current_subset) = learn_one_rule(columns, current_subset, class_label, rule, min_coverage, min_accuracy)\n",
    "                    prev_acc = new_acc\n",
    "                    new_acc = rule.accuracy\n",
    "                # done with this rule\n",
    "                if rule.accuracy >= min_accuracy:\n",
    "                    rules.append(rule)\n",
    "                    current_data = current_data.drop(current_data[eval(rule.to_filter_no_class())].index)\n",
    "                else:\n",
    "                    break\n",
    "                \n",
    "    return rules"
   ]
  },
  {
   "cell_type": "markdown",
   "metadata": {},
   "source": [
    "## 2. Titanic dataset: the rules of survival"
   ]
  },
  {
   "cell_type": "markdown",
   "metadata": {},
   "source": [
    "Our very familiar Titanic [dataset](https://docs.google.com/spreadsheets/d/1QGNxqRU02eAvTGih1t0cErB5R05mdOdUBgJZACGcuvs/edit?usp=sharing)."
   ]
  },
  {
   "cell_type": "code",
   "execution_count": 49,
   "metadata": {},
   "outputs": [],
   "source": [
    "data_file = \"../../Datasets/titanic.csv\""
   ]
  },
  {
   "cell_type": "code",
   "execution_count": 50,
   "metadata": {},
   "outputs": [
    {
     "name": "stdout",
     "output_type": "stream",
     "text": [
      "Total rows 714\n",
      "Columns: ['Pclass', 'Sex', 'Age', 'Survived']\n"
     ]
    }
   ],
   "source": [
    "data = pd.read_csv(data_file)\n",
    "\n",
    "# take a subset of attributes\n",
    "data = data[['Pclass', 'Sex', 'Age', 'Survived']]\n",
    "\n",
    "# drop all columns and rows with missing values\n",
    "data = data.dropna(how=\"any\")\n",
    "print(\"Total rows\", len(data))\n",
    "\n",
    "column_list = data.columns.to_numpy().tolist()\n",
    "print(\"Columns:\", column_list)"
   ]
  },
  {
   "cell_type": "code",
   "execution_count": 52,
   "metadata": {},
   "outputs": [
    {
     "name": "stdout",
     "output_type": "stream",
     "text": [
      "If [Sex=female, Pclass>=2:False, Age>=26.0:True, Age>=47.0:False] then 1. Coverage:37, accuracy: 1.0\n",
      "If [Sex=female, Pclass>=2:False, Age>=14.0:True, Age>=50.0:False, Sex=female] then 1. Coverage:32, accuracy: 0.96875\n",
      "If [Age>=6.0:False, Pclass>=2:True] then 1. Coverage:41, accuracy: 0.7073170731707317\n",
      "If [Sex=male, Age>=54.0:True, Age>=80.0:False, Sex=male] then 0. Coverage:36, accuracy: 0.9166666666666666\n",
      "If [Sex=male, Pclass>=2:True, Age>=32.5:True, Age>=39.0:False, Sex=male] then 0. Coverage:42, accuracy: 0.9761904761904762\n",
      "If [Sex=male, Pclass>=2:True, Age>=40.0:True, Sex=male] then 0. Coverage:41, accuracy: 0.926829268292683\n",
      "If [Sex=male, Age>=25.0:False, Age>=20.5:True, Pclass>=2:True, Age>=24.0:False, Sex=male] then 0. Coverage:41, accuracy: 0.9512195121951219\n",
      "If [Sex=male, Pclass>=2:True, Pclass>=3:False, Age>=31.0:False, Age>=16.0:True, Sex=male] then 0. Coverage:34, accuracy: 0.9705882352941176\n",
      "If [Pclass>=3:True, Sex=male, Age>=20.0:False, Age>=14.0:True, Sex=male] then 0. Coverage:38, accuracy: 0.9210526315789473\n"
     ]
    }
   ],
   "source": [
    "# we can set different accuracy thresholds\n",
    "# here we can reorder class labels - to first learn the rules with class label \"survived\".\n",
    "rules = learn_rules(column_list, data, [1,0], 30, 0.7)\n",
    "for rule in rules[:10]:\n",
    "    print(rule)"
   ]
  },
  {
   "cell_type": "markdown",
   "metadata": {},
   "source": [
    "## 3. Coronavirus: symptoms and outcome"
   ]
  },
  {
   "cell_type": "markdown",
   "metadata": {},
   "source": [
    "Coronavirus [dataset](https://drive.google.com/file/d/1uVd09ekR1ArLrA8qN-Xtu4l-FFbmetVy/view?usp=sharing) (preprocessed as outlined [here](rules_motivation.ipynb))."
   ]
  },
  {
   "cell_type": "code",
   "execution_count": 53,
   "metadata": {},
   "outputs": [],
   "source": [
    "data_file = \"../../Datasets/covid_categorical_good.csv\""
   ]
  },
  {
   "cell_type": "code",
   "execution_count": 54,
   "metadata": {},
   "outputs": [
    {
     "data": {
      "text/plain": [
       "Index(['sex', 'age', 'diabetes', 'copd', 'asthma', 'imm_supr', 'hypertension',\n",
       "       'cardiovascular', 'obesity', 'renal_chronic', 'tobacco', 'outcome'],\n",
       "      dtype='object')"
      ]
     },
     "execution_count": 54,
     "metadata": {},
     "output_type": "execute_result"
    }
   ],
   "source": [
    "data = pd.read_csv(data_file)\n",
    "data = data.dropna(how=\"any\")\n",
    "data.columns"
   ]
  },
  {
   "cell_type": "markdown",
   "metadata": {},
   "source": [
    "Most accurate rules will have class label \"alive\". There could be too many rules, and we might never get to the class label \"dead\" if we rank them by accuracy. \n",
    "\n",
    "If we want to see which combination of attributes leads to \"dead\", we might want to run the algorithm with only this class label and set the lower accuracy threshold.\n",
    "\n",
    "Remove the _age_ attribute and run your algorithm with parameters shown below."
   ]
  },
  {
   "cell_type": "code",
   "execution_count": 55,
   "metadata": {},
   "outputs": [
    {
     "name": "stderr",
     "output_type": "stream",
     "text": [
      "/var/folders/z7/1v7y_wtj30n6wjl2kq8v04rm0000gn/T/ipykernel_45957/1658053468.py:3: FutureWarning: In a future version of pandas all arguments of DataFrame.drop except for the argument 'labels' will be keyword-only\n",
      "  data_categorical = data.drop('age', 1)\n"
     ]
    },
    {
     "name": "stdout",
     "output_type": "stream",
     "text": [
      "If [renal_chronic=yes, diabetes=yes, cardiovascular=yes, obesity=no, sex=male, imm_supr=no, hypertension=yes, asthma=no, renal_chronic=yes] then dead. Coverage:70, accuracy: 0.6571428571428571\n",
      "If [renal_chronic=yes, diabetes=yes, obesity=no, copd=yes, tobacco=no, hypertension=yes, imm_supr=no, asthma=no, sex=female, tobacco=no] then dead. Coverage:31, accuracy: 0.6129032258064516\n",
      "If [renal_chronic=yes, diabetes=yes, obesity=no, hypertension=yes, imm_supr=no, copd=yes, asthma=no, renal_chronic=yes] then dead. Coverage:30, accuracy: 0.5666666666666667\n",
      "If [renal_chronic=yes, diabetes=yes, tobacco=no, copd=yes, sex=male, tobacco=no] then dead. Coverage:31, accuracy: 0.5806451612903226\n",
      "If [renal_chronic=yes, diabetes=yes, obesity=no, hypertension=yes, imm_supr=no, sex=male, asthma=no, tobacco=no, tobacco=no] then dead. Coverage:658, accuracy: 0.48024316109422494\n",
      "If [renal_chronic=yes, diabetes=yes, tobacco=no, cardiovascular=yes, sex=male, obesity=yes, hypertension=yes, tobacco=no] then dead. Coverage:31, accuracy: 0.5806451612903226\n",
      "If [renal_chronic=yes, diabetes=yes, obesity=no, hypertension=yes, imm_supr=no, sex=female, cardiovascular=yes, tobacco=no, copd=no, tobacco=no] then dead. Coverage:50, accuracy: 0.52\n",
      "If [renal_chronic=yes, diabetes=yes, obesity=no, tobacco=no, imm_supr=no, hypertension=yes, sex=female, cardiovascular=no, tobacco=no] then dead. Coverage:499, accuracy: 0.4709418837675351\n",
      "If [copd=yes, hypertension=yes, sex=male, diabetes=yes, tobacco=no, cardiovascular=yes, tobacco=no] then dead. Coverage:35, accuracy: 0.5714285714285714\n",
      "If [copd=yes, hypertension=yes, sex=male, diabetes=yes, tobacco=no, obesity=yes, imm_supr=no, tobacco=no] then dead. Coverage:57, accuracy: 0.5087719298245614\n",
      "If [copd=yes, hypertension=yes, sex=male, diabetes=yes, tobacco=no, obesity=no, tobacco=no] then dead. Coverage:163, accuracy: 0.4723926380368098\n",
      "If [renal_chronic=yes, diabetes=yes, asthma=no, imm_supr=yes, obesity=yes, cardiovascular=no, hypertension=yes, renal_chronic=yes] then dead. Coverage:39, accuracy: 0.5897435897435898\n",
      "If [renal_chronic=yes, diabetes=yes, asthma=no, imm_supr=yes, hypertension=no, cardiovascular=no, tobacco=no, tobacco=no] then dead. Coverage:35, accuracy: 0.6\n",
      "If [renal_chronic=yes, diabetes=yes, asthma=no, cardiovascular=yes, copd=no, sex=male, renal_chronic=yes] then dead. Coverage:39, accuracy: 0.5128205128205128\n",
      "If [copd=yes, hypertension=yes, obesity=no, renal_chronic=yes, diabetes=no, sex=male, cardiovascular=no, renal_chronic=yes] then dead. Coverage:31, accuracy: 0.5806451612903226\n",
      "If [copd=yes, hypertension=yes, obesity=no, sex=male, diabetes=yes, cardiovascular=no, renal_chronic=no, asthma=no, tobacco=yes] then dead. Coverage:65, accuracy: 0.46153846153846156\n",
      "If [renal_chronic=yes, diabetes=yes, tobacco=no, copd=yes, asthma=no, tobacco=no] then dead. Coverage:36, accuracy: 0.4722222222222222\n",
      "If [renal_chronic=yes, diabetes=yes, asthma=no, hypertension=yes, tobacco=yes, obesity=no, copd=no, cardiovascular=no, tobacco=yes] then dead. Coverage:92, accuracy: 0.5\n",
      "If [copd=yes, hypertension=yes, diabetes=no, renal_chronic=yes, renal_chronic=yes] then dead. Coverage:38, accuracy: 0.39473684210526316\n",
      "If [copd=yes, hypertension=yes, diabetes=no, tobacco=yes, obesity=yes, sex=male, asthma=no, tobacco=yes] then dead. Coverage:39, accuracy: 0.5128205128205128\n"
     ]
    }
   ],
   "source": [
    "# We really want to learn first what makes covid deadly\n",
    "class_labels = [\"dead\"]\n",
    "data_categorical = data.drop('age', 1)\n",
    "column_list = data_categorical.columns.to_numpy().tolist()\n",
    "rules = learn_rules(column_list, data_categorical, class_labels, 30, 0.3)\n",
    "for rule in rules[:20]:\n",
    "    print(rule)"
   ]
  },
  {
   "cell_type": "markdown",
   "metadata": {},
   "source": [
    "Now try on both classes and for the entire dataset including _age_. Collect top 20 most accurate rules."
   ]
  },
  {
   "cell_type": "code",
   "execution_count": 59,
   "metadata": {},
   "outputs": [
    {
     "name": "stdout",
     "output_type": "stream",
     "text": [
      "If [hypertension=no, sex=female, diabetes=no, tobacco=yes, obesity=no, asthma=yes, copd=no, tobacco=yes] then alive. Coverage:88, accuracy: 0.9886363636363636\n",
      "If [hypertension=no, sex=female, diabetes=no, tobacco=yes, obesity=no, copd=no, cardiovascular=yes] then alive. Coverage:35, accuracy: 1.0\n",
      "If [hypertension=no, sex=female, diabetes=no, tobacco=yes, obesity=no, copd=no, imm_supr=no, renal_chronic=no, tobacco=yes] then alive. Coverage:2317, accuracy: 0.9762624082865775\n",
      "If [hypertension=no, sex=female, diabetes=no, asthma=yes, obesity=no, imm_supr=no, copd=no, cardiovascular=no, tobacco=no] then alive. Coverage:1686, accuracy: 0.9673784104389087\n",
      "If [hypertension=no, sex=female, diabetes=no, obesity=no, copd=no, imm_supr=no, renal_chronic=no, cardiovascular=no, tobacco=no] then alive. Coverage:54563, accuracy: 0.9620255484485823\n",
      "If [hypertension=no, asthma=yes, diabetes=no, copd=no, imm_supr=no, sex=female, tobacco=no, obesity=yes, tobacco=no] then alive. Coverage:531, accuracy: 0.9566854990583804\n",
      "If [hypertension=no, asthma=yes, diabetes=no, obesity=no, cardiovascular=yes, obesity=no] then alive. Coverage:45, accuracy: 0.9555555555555556\n",
      "If [hypertension=no, asthma=yes, diabetes=no, obesity=no, copd=no, imm_supr=no, renal_chronic=no, tobacco=no, tobacco=no] then alive. Coverage:1161, accuracy: 0.9509043927648578\n",
      "If [hypertension=no, diabetes=no, sex=female, tobacco=yes, obesity=yes, cardiovascular=no, asthma=yes, renal_chronic=no, tobacco=yes] then alive. Coverage:44, accuracy: 0.9772727272727273\n",
      "If [hypertension=no, diabetes=no, sex=female, obesity=yes, tobacco=yes, cardiovascular=no, copd=no, imm_supr=no, asthma=no, tobacco=yes] then alive. Coverage:846, accuracy: 0.9456264775413712\n",
      "If [hypertension=no, diabetes=no, sex=female, obesity=yes, copd=no, cardiovascular=no, imm_supr=no, renal_chronic=no, tobacco=no] then alive. Coverage:9803, accuracy: 0.9365500357033562\n",
      "If [hypertension=no, diabetes=no, obesity=no, tobacco=yes, copd=no, asthma=yes, imm_supr=no, tobacco=yes] then alive. Coverage:101, accuracy: 0.9306930693069307\n",
      "If [hypertension=no, diabetes=no, obesity=no, tobacco=yes, copd=no, renal_chronic=no, imm_supr=no, cardiovascular=no, tobacco=yes] then alive. Coverage:5921, accuracy: 0.9211281878061138\n",
      "If [hypertension=no, diabetes=no, obesity=no, copd=no, renal_chronic=no, imm_supr=no, cardiovascular=no, tobacco=no] then alive. Coverage:63252, accuracy: 0.9117814456459875\n",
      "If [asthma=yes, hypertension=no, obesity=yes, sex=male, tobacco=yes, renal_chronic=no, copd=no, tobacco=yes] then alive. Coverage:56, accuracy: 0.9642857142857143\n",
      "If [asthma=yes, hypertension=no, obesity=yes, sex=male, diabetes=no, renal_chronic=no, copd=no, imm_supr=no, tobacco=no] then alive. Coverage:316, accuracy: 0.9177215189873418\n",
      "If [diabetes=no, hypertension=no, obesity=yes, tobacco=yes, copd=no, cardiovascular=no, imm_supr=no, renal_chronic=no, tobacco=yes] then alive. Coverage:1985, accuracy: 0.8841309823677582\n",
      "If [asthma=yes, sex=female, tobacco=yes, imm_supr=yes] then alive. Coverage:31, accuracy: 1.0\n",
      "If [diabetes=no, hypertension=no, obesity=yes, copd=no, cardiovascular=no, imm_supr=no, renal_chronic=no, tobacco=no] then alive. Coverage:10556, accuracy: 0.8716369837059492\n",
      "If [asthma=yes, sex=female, tobacco=yes, hypertension=yes, renal_chronic=no, tobacco=yes] then alive. Coverage:45, accuracy: 0.9777777777777777\n"
     ]
    }
   ],
   "source": [
    "# This may take some time to run (took 12 min on my computer - what about your implementation?)\n",
    "rules = learn_rules(column_list, data, [\"dead\",\"alive\"], 30, 0.4)\n",
    "for rule in rules[:20]:\n",
    "    print(rule)"
   ]
  },
  {
   "cell_type": "markdown",
   "metadata": {},
   "source": [
    "## 4. Discussion\n",
    "\n",
    "Write here a discussion about the rules that you have learned from both datasets. \n",
    "\n",
    "Did any of these rules surprise you?\n",
    "\n",
    "Do you have a meaningful logical explanation for these rules?\n",
    "\n",
    "What additional research is needed to understand the meaning of your findings?\n",
    "\n",
    "\n",
    "   In the end, the rules were not surprising. However, what was surprising was the lack of a rule for smokers. It appears that smoking itself does not highly increase the chance that one will die with covid, at least among this population. Many of the rules for the alive status included smoking=yes.\n",
    "  \n",
    "   \n",
    "   For the titanic dataset, it makes sense that women would be saved first, as that is what was said to have happeneed. For covid, the comorbidities generated by our rules seem to be related to various health conditions that might play out as factors in survival. For example, not having hypertension almost immediately means you do not need to worry about dying.\n",
    "   \n",
    "   Additional research that needs to happen would, unfortunately, be randomly controlled trials where we give people with various conditions covid in order to find the risk ratios for those conditions. This is unethical, and should never happen, however. Barring that, more publically available data is needed.\n",
    "   \n",
    "In any case, the algorithm works *very* fast. It took a mere minute to find the rules it did."
   ]
  },
  {
   "cell_type": "markdown",
   "metadata": {},
   "source": [
    "Copyright &copy; 2022 Marina Barsky. All rights reserved."
   ]
  }
 ],
 "metadata": {
  "kernelspec": {
   "display_name": "Python 3 (ipykernel)",
   "language": "python",
   "name": "python3"
  },
  "language_info": {
   "codemirror_mode": {
    "name": "ipython",
    "version": 3
   },
   "file_extension": ".py",
   "mimetype": "text/x-python",
   "name": "python",
   "nbconvert_exporter": "python",
   "pygments_lexer": "ipython3",
   "version": "3.9.9"
  }
 },
 "nbformat": 4,
 "nbformat_minor": 4
}
